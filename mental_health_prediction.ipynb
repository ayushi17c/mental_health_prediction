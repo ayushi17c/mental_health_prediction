# Mental Health Prediction Project

## 1. Imports and Data Loading
import pandas as pd
import numpy as np
import matplotlib.pyplot as plt
import seaborn as sns

df = pd.read_csv('../datasurvey.csv')
df.head()

## 2. Data Cleaning
# Drop unnecessary columns, handle missing values, clean age/gender fields
df = df[df['Age'].between(18, 65)]  # Remove outliers
df['Gender'] = df['Gender'].str.lower().map(lambda x: 'male' if 'm' in x else ('female' if 'f' in x else 'other'))

# Fill missing with mode for categorical, median for numeric
for col in ['self_employed', 'family_history', 'work_interfere', 'no_employees', 'remote_work', 'tech_company', 'benefits', 'care_options', 'wellness_program', 'seek_help', 'anonymity', 'leave', 'mental_health_consequence', 'phys_health_consequence', 'coworkers', 'supervisor', 'mental_health_interview', 'phys_health_interview', 'mental_vs_physical', 'obs_consequence']:
    df[col] = df[col].fillna(df[col].mode()[0])

df['Age'] = df['Age'].fillna(df['Age'].median())

## 3. Feature Engineering
df['family_history'] = df['family_history'].map({'Yes':1, 'No':0})
df['remote_work'] = df['remote_work'].map({'Yes':1, 'No':0})
df['benefits'] = df['benefits'].map({'Yes':1, 'No':0})
df['care_options'] = df['care_options'].map({'Yes':1, 'No':0})
df['anonymity'] = df['anonymity'].map({'Yes':1, 'No':0})
df['leave'] = df['leave'].replace({'Very easy':2, 'Somewhat easy':1, 'Don't know':0, 'Somewhat difficult':-1, 'Very difficult':-2})
df = pd.get_dummies(df, columns=['Gender', 'no_employees', 'work_interfere'], drop_first=True)

## 4. Target Variable
df['treatment'] = df['treatment'].map({'Yes':1, 'No':0})
df = df.dropna(subset=['treatment'])

## 5. Train-test Split
from sklearn.model_selection import train_test_split

X = df.drop(['treatment', 'Country', 'state', 'Timestamp', 'comments'], axis=1, errors='ignore')
y = df['treatment']

X_train, X_test, y_train, y_test = train_test_split(X, y, test_size=0.2, random_state=42)

## 6. Model Training
from sklearn.ensemble import RandomForestClassifier

clf = RandomForestClassifier(n_estimators=100, random_state=42)
clf.fit(X_train, y_train)

## 7. Evaluation
from sklearn.metrics import accuracy_score, classification_report, confusion_matrix

y_pred = clf.predict(X_test)
print("Accuracy:", accuracy_score(y_test, y_pred))
print(classification_report(y_test, y_pred))

sns.heatmap(confusion_matrix(y_test, y_pred), annot=True, fmt='d')
plt.title("Confusion Matrix")
plt.show()

## 8. Feature Importance
importances = pd.Series(clf.feature_importances_, index=X.columns)
importances.sort_values().tail(10).plot(kind='barh')
plt.title('Top 10 Feature Importances')
plt.show()

## 9. SHAP Interpretation (Optional)
import shap
explainer = shap.TreeExplainer(clf)
shap_values = explainer.shap_values(X_test)
shap.summary_plot(shap_values[1], X_test)

## 10. Save Model
import pickle
with open('../app/rf_model.pkl', 'wb') as f:
    pickle.dump(clf, f)